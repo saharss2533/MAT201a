{
 "metadata": {
  "name": "",
  "signature": "sha256:f877b30b601f68e6cb4186a0dab910e01ead954e6516c6cb53a288a5fd625569"
 },
 "nbformat": 3,
 "nbformat_minor": 0,
 "worksheets": [
  {
   "cells": [
    {
     "cell_type": "code",
     "collapsed": false,
     "input": [
      "import csv\n",
      "import numpy as np\n",
      "import pandas as pd\n",
      "# from pylab import *\n",
      "%pylab inline\n",
      "from __future__ import print_function\n",
      "from __future__ import division\n",
      "from collections import defaultdict\n",
      "# with open('EarthQ-lastweek.csv', 'rb') as f:\n",
      "#      reader = csv.reader(f)\n",
      "#      for row in reader:\n",
      "#          print (row)\n",
      " \n",
      "columns = defaultdict(list) # each value in each column is appended to a list    \n",
      "with open('EarthQ-lastweek.csv') as f:\n",
      "    reader = csv.DictReader(f) # read rows into a dictionary format\n",
      "    for row in reader: # read a row as {column1: value1, column2: value2,...}\n",
      "        for (k,v) in row.items(): # go over each column name and value \n",
      "            columns[k].append(v) # append the value into the appropriate list\n",
      "                                 # based on column name k\n",
      "\n",
      "# print(columns['name'])\n",
      "# print(columns['phone'])\n",
      "# print(columns['street'])            \n",
      "#     for col in reader:\n",
      "#         content = list(col[i] for i in included_rows)\n",
      "#         print (content)  \n",
      "        \n",
      "#      for row in reader:\n",
      "#          content = list(row[i] for i in included_cols)\n",
      "#          print (content)  \n",
      "       \n",
      "# df = pd.read_csv('EarthQ-lastweek.csv')\n",
      "# # column_name='Magnitude'\n",
      "# saved_column = df.'Magnitude'\n",
      "print(columns['Magnitude'][0], columns['Magnitude'][2])\n",
      "print(columns['DateTime'])\n",
      "# mag=reader['Magnitude']            \n",
      "x = linspace(0, 2 * pi, 100)\n",
      "y = sin(x)\n",
      "grid()\n",
      "xlabel('Depth')\n",
      "ylabel('Magnitude')\n",
      "title('Earthquake')\n",
      "figure;\n",
      "# plot(x,y);\n",
      "plot(columns['Magnitude'], columns['Depth'], 'o');\n",
      "savefig('EarthQuake-MagnitudeDepthPlot-output.pdf')"
     ],
     "language": "python",
     "metadata": {},
     "outputs": [
      {
       "output_type": "stream",
       "stream": "stdout",
       "text": [
        "Populating the interactive namespace from numpy and matplotlib\n",
        "5.4 4.7\n",
        "['2015-01-20T17:34:40.460+00:00', '2015-01-20T14:34:51.210+00:00', '2015-01-20T12:46:41.470+00:00', '2015-01-20T12:07:19.600+00:00', '2015-01-20T11:10:41.440+00:00', '2015-01-20T10:32:26.220+00:00', '2015-01-20T09:30:55.290+00:00', '2015-01-20T08:14:38.300+00:00', '2015-01-20T07:35:21.470+00:00', '2015-01-20T06:59:52.980+00:00', '2015-01-20T05:21:29.910+00:00', '2015-01-20T03:02:16.100+00:00', '2015-01-19T23:08:57.060+00:00', '2015-01-19T22:34:48.410+00:00', '2015-01-19T17:19:45.740+00:00', '2015-01-19T15:30:50.070+00:00', '2015-01-19T15:17:06.940+00:00', '2015-01-19T15:05:48.110+00:00', '2015-01-19T13:09:36.150+00:00', '2015-01-19T12:45:13.060+00:00', '2015-01-19T12:31:51.580+00:00', '2015-01-19T06:31:14.970+00:00', '2015-01-19T02:33:39.380+00:00', '2015-01-18T23:32:58.630+00:00', '2015-01-18T23:13:37.130+00:00', '2015-01-18T23:06:18.490+00:00', '2015-01-18T22:27:52.830+00:00', '2015-01-18T20:40:36.880+00:00', '2015-01-18T18:32:53.800+00:00', '2015-01-18T17:07:11.940+00:00', '2015-01-18T16:15:10.980+00:00', '2015-01-18T08:30:29.630+00:00', '2015-01-18T07:35:52.100+00:00', '2015-01-18T06:41:33.950+00:00', '2015-01-18T04:47:38.590+00:00', '2015-01-18T04:27:41.530+00:00', '2015-01-18T03:59:58.400+00:00', '2015-01-18T00:27:22.320+00:00', '2015-01-17T23:39:52.430+00:00', '2015-01-17T23:02:51.660+00:00', '2015-01-17T18:41:42.060+00:00', '2015-01-17T18:17:37.500+00:00', '2015-01-17T16:07:40.310+00:00', '2015-01-17T11:35:29.310+00:00', '2015-01-17T10:10:22.500+00:00', '2015-01-17T09:07:51.540+00:00', '2015-01-17T07:56:18.920+00:00', '2015-01-17T05:09:20.800+00:00', '2015-01-17T03:58:02.990+00:00', '2015-01-16T22:00:39.350+00:00', '2015-01-16T17:38:22.720+00:00', '2015-01-16T17:15:47.460+00:00', '2015-01-16T11:39:23.610+00:00', '2015-01-16T07:45:05.850+00:00', '2015-01-16T07:13:18.230+00:00', '2015-01-16T02:24:32.960+00:00', '2015-01-15T22:38:23.410+00:00', '2015-01-15T20:29:13.370+00:00', '2015-01-15T16:57:17.990+00:00', '2015-01-15T16:32:18.740+00:00', '2015-01-15T14:01:51.610+00:00', '2015-01-15T11:31:47.500+00:00', '2015-01-15T07:10:27.910+00:00', '2015-01-15T05:49:01.290+00:00', '2015-01-15T05:19:45.280+00:00', '2015-01-15T03:21:31.410+00:00', '2015-01-15T01:34:19.250+00:00', '2015-01-15T00:09:27.660+00:00', '2015-01-14T12:09:35.380+00:00', '2015-01-14T05:29:39.140+00:00', '2015-01-14T05:21:39.270+00:00', '2015-01-14T03:39:46.680+00:00', '2015-01-14T01:15:39.790+00:00', '2015-01-14T00:40:39.950+00:00']\n"
       ]
      },
      {
       "output_type": "stream",
       "stream": "stderr",
       "text": [
        "WARNING: pylab import has clobbered these variables: ['f']\n",
        "`%matplotlib` prevents importing * from pylab and numpy\n"
       ]
      },
      {
       "metadata": {},
       "output_type": "display_data",
       "png": "[encoded data removed]",
       "text": [
        "<matplotlib.figure.Figure at 0x10a8f9510>"
       ]
      }
     ],
     "prompt_number": 24
    },
    {
     "cell_type": "code",
     "collapsed": false,
     "input": [],
     "language": "python",
     "metadata": {},
     "outputs": [],
     "prompt_number": 7
    },
    {
     "cell_type": "code",
     "collapsed": false,
     "input": [],
     "language": "python",
     "metadata": {},
     "outputs": []
    }
   ],
   "metadata": {}
  }
 ]
}