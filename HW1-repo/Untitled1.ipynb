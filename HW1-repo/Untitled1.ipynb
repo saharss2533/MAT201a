{
 "metadata": {
  "name": "",
  "signature": "sha256:5bf4a2057ab0d44346f8cdd39838b76d8f9307e7dee513840ffe344e7eebab6f"
 },
 "nbformat": 3,
 "nbformat_minor": 0,
 "worksheets": [
  {
   "cells": [
    {
     "cell_type": "code",
     "collapsed": false,
     "input": [
      "import csv\n",
      "import numpy as np\n",
      "# from pylab import *\n",
      "%pylab inline\n",
      "from __future__ import print_function\n",
      "from __future__ import division\n",
      "with open('EarthQ-lastweek.csv', 'rb') as f:\n",
      "     reader = csv.reader(f)\n",
      "     for row in reader:\n",
      "         print (row)\n",
      "x = linspace(0, 2 * pi, 100)\n",
      "y = sin(x)\n",
      "grid()\n",
      "xlabel('Time')\n",
      "ylabel('Magnitude')\n",
      "title('Earthquake')\n",
      "figure;\n",
      "plot(x,y);"
     ],
     "language": "python",
     "metadata": {},
     "outputs": [
      {
       "output_type": "stream",
       "stream": "stdout",
       "text": [
        "Populating the interactive namespace from numpy and matplotlib\n",
        "['DateTime', 'Latitude', 'Longitude', 'Depth', 'Magnitude', 'MagType', 'NbStations', 'Gap', 'Distance', 'RMS', 'Source', 'EventID', 'Version']\n",
        "['2015-01-20T17:34:40.460+00:00', '-23.334', '-70.899', '14.2', '5.4', 'mb', '', '80', '0.4', '1.29', 'us', 'usc000thj5', '1421779372288']\n",
        "['2015-01-20T14:34:51.210+00:00', '-5.420', '102.458', '37.8', '5.0', 'mb', '', '89', '1.2', '0.61', 'us', 'usc000thgj', '1421793481160']\n",
        "['2015-01-20T12:46:41.470+00:00', '48.303', '154.765', '55.0', '4.7', 'mb', '', '136', '5.2', '0.72', 'us', 'usc000thg7', '1421786952507']\n",
        "['2015-01-20T12:07:19.600+00:00', '-6.192', '154.440', '62.9', '5.0', 'mb', '', '62', '6.3', '1.03', 'us', 'usc000thg4', '1421784589822']\n",
        "['2015-01-20T11:10:41.440+00:00', '2.096', '128.596', '73.1', '4.7', 'mb', '', '106', '1.8', '1.13', 'us', 'usc000thf1', '1421781206054']\n",
        "['2015-01-20T10:32:26.220+00:00', '64.476', '-17.534', '6.5', '4.7', 'mb', '', '71', '1.7', '1.33', 'us', 'usc000they', '1421778901895']\n",
        "['2015-01-20T09:30:55.290+00:00', '49.024', '78.833', '10.0', '4.9', 'mb', '', '52', '1.7', '1.09', 'us', 'usc000them', '1421775215583']\n",
        "['2015-01-20T08:14:38.300+00:00', '-17.036', '-174.767', '100.2', '4.8', 'mb', '', '80', '22.3', '0.71', 'us', 'usc000thee', '1421770632783']\n",
        "['2015-01-20T07:35:21.470+00:00', '42.171', '84.578', '34.1', '4.8', 'mb', '', '82', '4.9', '0.91', 'us', 'usc000thec', '1421768305906']\n",
        "['2015-01-20T06:59:52.980+00:00', '15.022', '-91.339', '161.9', '5.6', 'mb', '', '76', '0.3', '0.89', 'us', 'usc000the9', '1421770429040']\n",
        "['2015-01-20T05:21:29.910+00:00', '-8.061', '117.712', '36.8', '4.7', 'mb', '', '82', '3.5', '0.94', 'us', 'usc000thdu', '1421760238642']\n",
        "['2015-01-20T03:02:16.100+00:00', '5.837', '127.057', '110.6', '4.9', 'mb', '', '116', '5.0', '1.11', 'us', 'usc000thd9', '1421751884681']\n",
        "['2015-01-19T23:08:57.060+00:00', '14.928', '147.024', '40.5', '5.0', 'mb', '', '73', '1.2', '0.79', 'us', 'usc000thby', '1421737899248']\n",
        "['2015-01-19T22:34:48.410+00:00', '37.160', '138.519', '181.7', '4.8', 'mb', '', '56', '0.7', '1.23', 'us', 'usc000thbg', '1421735846804']\n",
        "['2015-01-19T17:19:45.740+00:00', '4.624', '119.761', '11.0', '5.5', 'mwb', '', '29', '1.4', '0.74', 'us', 'usc000th7m', '1421722585000']\n",
        "['2015-01-19T15:30:50.070+00:00', '26.043', '99.676', '10.0', '4.5', 'mb', '', '82', '2.9', '0.71', 'us', 'usc000th7c', '1421710416423']\n",
        "['2015-01-19T15:17:06.940+00:00', '-16.661', '176.952', '10.0', '4.7', 'mb', '', '119', '1.5', '0.57', 'us', 'usc000th67', '1421709580767']\n",
        "['2015-01-19T15:05:48.110+00:00', '73.198', '6.371', '10.0', '4.8', 'mb', '', '68', '5.6', '0.70', 'us', 'usc000th63', '1421708908371']\n",
        "['2015-01-19T13:09:36.150+00:00', '73.171', '6.323', '10.0', '4.6', 'mb', '', '92', '5.6', '0.97', 'us', 'usc000th4c', '1421701935233']\n",
        "['2015-01-19T12:45:13.060+00:00', '73.229', '6.441', '10.0', '5.5', 'mb', '', '30', '5.5', '0.85', 'us', 'usc000th49', '1421722584000']\n",
        "['2015-01-19T12:31:51.580+00:00', '73.208', '6.427', '10.0', '5.0', 'mb', '', '74', '5.6', '0.85', 'us', 'usc000th45', '1421699672738']\n",
        "['2015-01-19T06:31:14.970+00:00', '73.263', '6.208', '10.0', '4.6', 'mb', '', '81', '5.5', '1.48', 'us', 'usc000th2u', '1421678021954']\n",
        "['2015-01-19T02:33:39.380+00:00', '-6.170', '145.301', '133.3', '5.0', 'mb', '', '48', '13.4', '0.90', 'us', 'usc000th2h', '1421653701598']\n",
        "['2015-01-18T23:32:58.630+00:00', '12.580', '-89.179', '62.8', '4.6', 'mb', '', '181', '2.1', '0.68', 'us', 'usc000th1g', '1421652930637']\n",
        "['2015-01-18T23:13:37.130+00:00', '-35.464', '-105.784', '10.7', '5.1', 'mb', '', '79', '8.8', '0.90', 'us', 'usc000th1c', '1421723045040']\n",
        "['2015-01-18T23:06:18.490+00:00', '56.017', '113.922', '10.0', '4.6', 'mb', '', '86', '7.5', '0.70', 'us', 'usc000th12', '1421651337169']\n",
        "['2015-01-18T22:27:52.830+00:00', '64.458', '-17.869', '7.4', '4.6', 'mb', '', '144', '1.5', '0.76', 'us', 'usc000th0t', '1421649025221']\n",
        "['2015-01-18T20:40:36.880+00:00', '-18.026', '-174.600', '320.4', '5.1', 'mb', '', '93', '17.6', '0.83', 'us', 'usc000th09', '1421642598669']\n",
        "['2015-01-18T18:32:53.800+00:00', '-17.587', '-176.364', '405.9', '4.5', 'mb', '', '246', '5.3', '0.53', 'us', 'usc000tgzi', '1421634933677']\n",
        "['2015-01-18T17:07:11.940+00:00', '-55.525', '-27.562', '35.6', '5.0', 'mb', '', '119', '5.3', '0.88', 'us', 'usc000tgz4', '1421629781357']\n",
        "['2015-01-18T16:15:10.980+00:00', '30.474', '142.132', '27.8', '5.1', 'mb', '', '28', '3.3', '0.68', 'us', 'usc000tgyv', '1421626671662']\n",
        "['2015-01-18T08:30:29.630+00:00', '-16.413', '-13.987', '10.0', '5.2', 'mb', '', '127', '7.9', '0.87', 'us', 'usc000tgxf', '1421598780459']\n",
        "['2015-01-18T07:35:52.100+00:00', '64.661', '-17.347', '4.5', '4.7', 'mb', '', '111', '6.1', '0.82', 'us', 'usc000tgx3', '1421595500093']\n",
        "['2015-01-18T06:41:33.950+00:00', '56.080', '113.560', '10.0', '5.0', 'mb', '', '30', '7.3', '1.20', 'us', 'usc000tgwz', '1421592244293']\n",
        "['2015-01-18T04:47:38.590+00:00', '51.905', '179.568', '105.9', '5.8', 'mb', '', '48', '0.6', '0.86', 'us', 'usc000tgw6', '1421607384000']\n",
        "['2015-01-18T04:27:41.530+00:00', '28.573', '142.494', '5.8', '5.0', 'mb', '', '93', '1.5', '0.75', 'us', 'usc000tgw5', '1421584211682']\n",
        "['2015-01-18T03:59:58.400+00:00', '-32.672', '-71.749', '23.2', '5.0', 'mb', '', '65', '0.7', '0.98', 'us', 'usc000tgw0', '1421640237132']\n",
        "['2015-01-18T00:27:22.320+00:00', '13.911', '120.663', '151.1', '5.3', 'mb', '', '40', '8.9', '0.94', 'us', 'usc000tgvr', '1421569806648']\n",
        "['2015-01-17T23:39:52.430+00:00', '-5.765', '131.841', '63.2', '5.6', 'mb', '', '65', '2.3', '0.99', 'us', 'usc000tgvb', '1421697190040']\n",
        "['2015-01-17T23:02:51.660+00:00', '40.659', '52.850', '48.0', '4.6', 'mb', '', '46', '4.9', '0.82', 'us', 'usc000tgv1', '1421564725444']\n",
        "['2015-01-17T18:41:42.060+00:00', '-22.233', '-63.072', '549.6', '5.3', 'mb', '', '26', '5.4', '1.34', 'us', 'usc000tgsw', '1421549058103']\n",
        "['2015-01-17T18:17:37.500+00:00', '37.380', '142.036', '40.4', '4.7', 'mb', '', '90', '1.1', '1.13', 'us', 'usc000tgsf', '1421547611427']\n",
        "['2015-01-17T16:07:40.310+00:00', '0.443', '125.383', '64.4', '5.0', 'mb', '', '40', '2.0', '1.29', 'us', 'usc000tgru', '1421539814779']\n",
        "['2015-01-17T11:35:29.310+00:00', '-4.538', '102.757', '67.3', '4.6', 'mb', '', '101', '0.3', '0.67', 'us', 'usc000tgqz', '1421523476334']\n",
        "['2015-01-17T10:10:22.500+00:00', '-17.904', '167.574', '16.7', '4.8', 'mb', '', '103', '2.5', '0.78', 'us', 'usc000tgqe', '1421518382394']\n",
        "['2015-01-17T09:07:51.540+00:00', '-24.087', '-67.011', '173.6', '4.6', 'mb', '', '55', '2.3', '1.24', 'us', 'usc000tgq2', '1421514625122']\n",
        "['2015-01-17T07:56:18.920+00:00', '-23.044', '-112.110', '10.0', '4.8', 'mb', '', '94', '4.8', '0.84', 'us', 'usc000tgps', '1421510327673']\n",
        "['2015-01-17T05:09:20.800+00:00', '13.921', '120.666', '141.9', '5.3', 'mb', '', '59', '8.9', '1.05', 'us', 'usc000tgpb', '1421475572697']\n",
        "['2015-01-17T03:58:02.990+00:00', '-20.102', '-177.658', '410.6', '4.5', 'mb', '', '96', '4.7', '0.77', 'us', 'usc000tgp0', '1421496043544']\n",
        "['2015-01-16T22:00:39.350+00:00', '-38.169', '-93.619', '10.0', '4.7', 'mb', '', '108', '12.8', '0.85', 'us', 'usc000tgma', '1421474602500']\n",
        "['2015-01-16T17:38:22.720+00:00', '64.591', '-17.359', '12.2', '4.7', 'mb', '', '96', '1.7', '0.72', 'us', 'usc000tghi', '1421509135112']\n",
        "['2015-01-16T17:15:47.460+00:00', '-4.701', '151.830', '167.3', '5.0', 'mb', '', '71', '0.6', '0.94', 'us', 'usc000tgh6', '1421508591706']\n",
        "['2015-01-16T11:39:23.610+00:00', '-3.333', '-79.941', '75.2', '5.1', 'mb', '', '113', '3.8', '0.80', 'us', 'usc000tgde', '1421524743953']\n",
        "['2015-01-16T07:45:05.850+00:00', '26.185', '124.860', '173.9', '4.5', 'mb', '', '53', '2.4', '0.71', 'us', 'usc000tgct', '1421423263225']\n",
        "['2015-01-16T07:13:18.230+00:00', '-17.851', '167.595', '17.8', '5.0', 'mb', '', '69', '2.4', '1.10', 'us', 'usc000tgci', '1421421353615']\n",
        "['2015-01-16T02:24:32.960+00:00', '24.074', '126.836', '10.0', '4.8', 'mb', '', '130', '3.5', '1.12', 'us', 'usc000tgbi', '1421404027236']\n",
        "['2015-01-15T22:38:23.410+00:00', '-1.133', '127.184', '31.4', '4.5', 'mb', '', '104', '1.9', '0.66', 'us', 'usc000tgae', '1421390465127']\n",
        "['2015-01-15T20:29:13.370+00:00', '-26.076', '-11.473', '10.0', '5.2', 'mb', '', '52', '11.4', '0.91', 'us', 'usc000tg7r', '1421382704396']\n",
        "['2015-01-15T16:57:17.990+00:00', '5.174', '94.320', '43.2', '4.7', 'mb', '', '108', '2.6', '0.86', 'us', 'usc000tg3x', '1421507857597']\n",
        "['2015-01-15T16:32:18.740+00:00', '-27.883', '-66.628', '150.3', '4.8', 'mb', '', '48', '2.5', '1.07', 'us', 'usc000tg3g', '1421507492276']\n",
        "['2015-01-15T14:01:51.610+00:00', '-4.855', '102.716', '62.6', '5.2', 'mb', '', '180', '0.5', '1.22', 'us', 'usc000tg17', '1421359464271']\n",
        "['2015-01-15T11:31:47.500+00:00', '-20.945', '-178.718', '570.1', '4.6', 'mb', '', '48', '4.4', '0.86', 'us', 'usc000tg0k', '1421350458220']\n",
        "['2015-01-15T07:10:27.910+00:00', '64.586', '-17.398', '8.0', '4.5', 'mb', '', '64', '1.7', '1.14', 'us', 'usc000tfye', '1421334779049']\n",
        "['2015-01-15T05:49:01.290+00:00', '-2.980', '129.602', '32.7', '4.7', 'mb', '', '79', '2.6', '0.87', 'us', 'usc000tfxv', '1421329923515']\n",
        "['2015-01-15T05:19:45.280+00:00', '-33.636', '-71.174', '81.4', '4.7', 'mb', '', '100', '0.4', '0.75', 'us', 'usc000tfxr', '1421380163038']\n",
        "['2015-01-15T03:21:31.410+00:00', '18.221', '-100.683', '62.5', '4.7', 'mb', '', '210', '1.5', '0.53', 'us', 'usc000tfxj', '1421321046563']\n",
        "['2015-01-15T01:34:19.250+00:00', '40.980', '142.830', '35.0', '4.5', 'mb', '', '194', '1.1', '0.68', 'us', 'usc000tfx5', '1421314622927']\n",
        "['2015-01-15T00:09:27.660+00:00', '0.130', '119.986', '62.8', '5.2', 'mb', '', '55', '1.3', '0.75', 'us', 'usc000tfwz', '1421309518768']\n",
        "['2015-01-14T12:09:35.380+00:00', '48.940', '141.983', '575.4', '5.0', 'mb', '', '42', '2.1', '0.80', 'us', 'usc000tfln', '1421266331345']\n",
        "['2015-01-14T05:29:39.140+00:00', '-22.127', '-175.890', '120.6', '4.6', 'mb', '', '142', '7.2', '1.30', 'us', 'usc000tfji', '1421242334959']\n",
        "['2015-01-14T05:21:39.270+00:00', '29.343', '103.175', '10.0', '5.3', 'mb', '', '43', '8.0', '0.70', 'us', 'usc000tfjg', '1421252543695']\n",
        "['2015-01-14T03:39:46.680+00:00', '-15.285', '-173.264', '10.0', '5.0', 'mb', '', '55', '2.0', '1.44', 'us', 'usc000tfis', '1421235734750']\n",
        "['2015-01-14T01:15:39.790+00:00', '26.395', '128.425', '27.1', '4.9', 'mb', '', '56', '0.5', '1.00', 'us', 'usc000tfhl', '1421199835550']\n",
        "['2015-01-14T00:40:39.950+00:00', '28.171', '128.330', '49.2', '4.7', 'mb', '', '88', '3.5', '0.98', 'us', 'usc000tfhf', '1421225016374']\n"
       ]
      },
      {
       "output_type": "stream",
       "stream": "stderr",
       "text": [
        "WARNING: pylab import has clobbered these variables: ['f']\n",
        "`%matplotlib` prevents importing * from pylab and numpy\n"
       ]
      },
      {
       "metadata": {},
       "output_type": "display_data",
       "png": "[encoded data removed]",
       "text": [
        "<matplotlib.figure.Figure at 0x109c4be10>"
       ]
      }
     ],
     "prompt_number": 24
    },
    {
     "cell_type": "code",
     "collapsed": false,
     "input": [],
     "language": "python",
     "metadata": {},
     "outputs": []
    }
   ],
   "metadata": {}
  }
 ]
}