{
 "metadata": {
  "name": "",
  "signature": "sha256:56524919f219701b4be7fa3ab3199eac88e1e264d3282ec1b1d62ba45fd425d9"
 },
 "nbformat": 3,
 "nbformat_minor": 0,
 "worksheets": [
  {
   "cells": [
    {
     "cell_type": "code",
     "collapsed": false,
     "input": [
      "# by Sahar Sajadieh\n",
      "# HW1-MAT201a-W15\n",
      "# The program plots the magnitude of Earthquake data(all over the world) wrt Time, in the last week\n",
      "import csv\n",
      "import numpy as np\n",
      "import pandas as pd\n",
      "# %pylab inline\n",
      "from __future__ import print_function\n",
      "from __future__ import division\n",
      "from collections import defaultdict\n",
      " \n",
      "columns = defaultdict(list) # each value in each column is appended to a list    \n",
      "with open('EarthQ-lastweek.csv') as f:\n",
      "    reader = csv.DictReader(f) # read rows into a dictionary format\n",
      "    for row in reader: # read a row as {column1: value1, column2: value2,...}\n",
      "        for (m,n) in row.items(): # go over each column name and value \n",
      "            columns[m].append(n) # append the value into the appropriate list\n",
      "                                 # based on column name k\n",
      "\n",
      "colLen=len(columns['DateTime'])\n",
      "overalTime = [0.00] * colLen\n",
      "for i in range(colLen):\n",
      "    sampleData=(columns['DateTime'][i])\n",
      "    daytime=sampleData.split(\"-\")\n",
      "    dayT=daytime[2].split(\"T\")\n",
      "    time=dayT[1]\n",
      "    day=float(dayT[0])\n",
      "    timeDetails=time.split(\":\")\n",
      "    hour=float(timeDetails[0])\n",
      "    minute=float(timeDetails[1])\n",
      "    sec=float(timeDetails[2].split(\"+\")[0])\n",
      "    #14th of Jan is the first date in our calendar\n",
      "    totalSeconds=(day-14)*(24*60*60) + (hour*60*60) + (minute*60) + sec \n",
      "    overalTime[i]=totalSeconds\n",
      "    \n",
      "x=overalTime\n",
      "y=columns['Magnitude']\n",
      "grid()\n",
      "xlabel('DateTime(The Last 7 Days)')\n",
      "ylabel('Magnitude(4.5 and up)')\n",
      "title('Earthquake')\n",
      "figure;\n",
      "xticks(linspace(0, 7*24*60*60, 8), ['Jan 14th', 'Jan 15th', 'Jan 16th', 'Jan 17th', 'Jan 18th', 'Jan 19th', 'Jan 20th', ''])\n",
      "plot(x, y, 'o', ms=2);\n",
      "savefig('EarthQuake-MagnitudeTimePlot-output.pdf')"
     ],
     "language": "python",
     "metadata": {},
     "outputs": [
      {
       "metadata": {},
       "output_type": "display_data",
       "png": "[encoded data removed]",
       "text": [
        "<matplotlib.figure.Figure at 0x10ad05f90>"
       ]
      }
     ],
     "prompt_number": 89
    },
    {
     "cell_type": "code",
     "collapsed": false,
     "input": [],
     "language": "python",
     "metadata": {},
     "outputs": []
    }
   ],
   "metadata": {}
  }
 ]
}