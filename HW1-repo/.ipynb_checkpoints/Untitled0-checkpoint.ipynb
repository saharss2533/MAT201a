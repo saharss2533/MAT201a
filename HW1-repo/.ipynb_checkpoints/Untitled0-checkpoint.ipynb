{
 "metadata": {
  "name": "",
  "signature": "sha256:8a4e585779df61cb293fde925c8cc0eacc4f38009f7ff46c8105139faf0386b9"
 },
 "nbformat": 3,
 "nbformat_minor": 0,
 "worksheets": []
}